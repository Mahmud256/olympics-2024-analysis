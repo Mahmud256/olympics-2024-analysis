{
 "cells": [
  {
   "cell_type": "code",
   "execution_count": 1,
   "id": "a04e9776",
   "metadata": {
    "_cell_guid": "b1076dfc-b9ad-4769-8c92-a6c4dae69d19",
    "_uuid": "8f2839f25d086af736a60e9eeb907d3b93b6e0e5",
    "execution": {
     "iopub.execute_input": "2024-08-28T15:43:42.352887Z",
     "iopub.status.busy": "2024-08-28T15:43:42.351527Z",
     "iopub.status.idle": "2024-08-28T15:43:45.067681Z",
     "shell.execute_reply": "2024-08-28T15:43:45.066516Z"
    },
    "papermill": {
     "duration": 2.731407,
     "end_time": "2024-08-28T15:43:45.071232",
     "exception": false,
     "start_time": "2024-08-28T15:43:42.339825",
     "status": "completed"
    },
    "tags": []
   },
   "outputs": [],
   "source": [
    "import numpy as np # linear algebra\n",
    "import pandas as pd # data processing, CSV file I/O (e.g. pd.read_csv)\n",
    "import seaborn as sns\n",
    "import matplotlib.pyplot as plt\n",
    "import warnings\n",
    "warnings.filterwarnings('ignore')"
   ]
  },
  {
   "cell_type": "markdown",
   "id": "a8c61fa5",
   "metadata": {
    "papermill": {
     "duration": 0.008673,
     "end_time": "2024-08-28T15:43:45.089248",
     "exception": false,
     "start_time": "2024-08-28T15:43:45.080575",
     "status": "completed"
    },
    "tags": []
   },
   "source": [
    "# Load Data"
   ]
  },
  {
   "cell_type": "code",
   "execution_count": 2,
   "id": "ce8bb153",
   "metadata": {
    "execution": {
     "iopub.execute_input": "2024-08-28T15:43:45.110192Z",
     "iopub.status.busy": "2024-08-28T15:43:45.108815Z",
     "iopub.status.idle": "2024-08-28T15:43:45.219804Z",
     "shell.execute_reply": "2024-08-28T15:43:45.218673Z"
    },
    "papermill": {
     "duration": 0.124363,
     "end_time": "2024-08-28T15:43:45.222718",
     "exception": false,
     "start_time": "2024-08-28T15:43:45.098355",
     "status": "completed"
    },
    "tags": []
   },
   "outputs": [],
   "source": [
    "df = pd.read_csv(\"/kaggle/input/olympics-2024/athletes new.csv\")"
   ]
  },
  {
   "cell_type": "code",
   "execution_count": 3,
   "id": "08bea155",
   "metadata": {
    "execution": {
     "iopub.execute_input": "2024-08-28T15:43:45.242849Z",
     "iopub.status.busy": "2024-08-28T15:43:45.242425Z",
     "iopub.status.idle": "2024-08-28T15:43:45.252901Z",
     "shell.execute_reply": "2024-08-28T15:43:45.251676Z"
    },
    "papermill": {
     "duration": 0.023797,
     "end_time": "2024-08-28T15:43:45.255694",
     "exception": false,
     "start_time": "2024-08-28T15:43:45.231897",
     "status": "completed"
    },
    "tags": []
   },
   "outputs": [
    {
     "data": {
      "text/plain": [
       "Index(['code', 'name', 'name_short', 'name_tv', 'gender', 'function',\n",
       "       'country_code', 'country', 'country_full', 'nationality',\n",
       "       'nationality_full', 'nationality_code', 'height', 'weight',\n",
       "       'disciplines', 'events', 'birth_date'],\n",
       "      dtype='object')"
      ]
     },
     "execution_count": 3,
     "metadata": {},
     "output_type": "execute_result"
    }
   ],
   "source": [
    "df.columns"
   ]
  },
  {
   "cell_type": "code",
   "execution_count": 4,
   "id": "8493ddbe",
   "metadata": {
    "execution": {
     "iopub.execute_input": "2024-08-28T15:43:45.276401Z",
     "iopub.status.busy": "2024-08-28T15:43:45.275982Z",
     "iopub.status.idle": "2024-08-28T15:43:45.324326Z",
     "shell.execute_reply": "2024-08-28T15:43:45.323007Z"
    },
    "papermill": {
     "duration": 0.062234,
     "end_time": "2024-08-28T15:43:45.327485",
     "exception": false,
     "start_time": "2024-08-28T15:43:45.265251",
     "status": "completed"
    },
    "tags": []
   },
   "outputs": [
    {
     "name": "stdout",
     "output_type": "stream",
     "text": [
      "<class 'pandas.core.frame.DataFrame'>\n",
      "RangeIndex: 11115 entries, 0 to 11114\n",
      "Data columns (total 17 columns):\n",
      " #   Column            Non-Null Count  Dtype  \n",
      "---  ------            --------------  -----  \n",
      " 0   code              11115 non-null  int64  \n",
      " 1   name              11115 non-null  object \n",
      " 2   name_short        11115 non-null  object \n",
      " 3   name_tv           11115 non-null  object \n",
      " 4   gender            11115 non-null  object \n",
      " 5   function          11115 non-null  object \n",
      " 6   country_code      11115 non-null  object \n",
      " 7   country           11115 non-null  object \n",
      " 8   country_full      11115 non-null  object \n",
      " 9   nationality       11115 non-null  object \n",
      " 10  nationality_full  11115 non-null  object \n",
      " 11  nationality_code  11115 non-null  object \n",
      " 12  height            11115 non-null  int64  \n",
      " 13  weight            11099 non-null  float64\n",
      " 14  disciplines       11115 non-null  object \n",
      " 15  events            11115 non-null  object \n",
      " 16  birth_date        11115 non-null  object \n",
      "dtypes: float64(1), int64(2), object(14)\n",
      "memory usage: 1.4+ MB\n"
     ]
    }
   ],
   "source": [
    "df.info()"
   ]
  },
  {
   "cell_type": "markdown",
   "id": "c8c005d4",
   "metadata": {
    "papermill": {
     "duration": 0.009045,
     "end_time": "2024-08-28T15:43:45.346204",
     "exception": false,
     "start_time": "2024-08-28T15:43:45.337159",
     "status": "completed"
    },
    "tags": []
   },
   "source": [
    "# What is the average height and weight of athletes in the dataset?"
   ]
  },
  {
   "cell_type": "code",
   "execution_count": 5,
   "id": "bea1dd09",
   "metadata": {
    "execution": {
     "iopub.execute_input": "2024-08-28T15:43:45.366669Z",
     "iopub.status.busy": "2024-08-28T15:43:45.366250Z",
     "iopub.status.idle": "2024-08-28T15:43:45.374238Z",
     "shell.execute_reply": "2024-08-28T15:43:45.373183Z"
    },
    "papermill": {
     "duration": 0.02129,
     "end_time": "2024-08-28T15:43:45.376934",
     "exception": false,
     "start_time": "2024-08-28T15:43:45.355644",
     "status": "completed"
    },
    "tags": []
   },
   "outputs": [
    {
     "name": "stdout",
     "output_type": "stream",
     "text": [
      "Average Height of Athletes: 81.83517768780926\n",
      "Average Weight of Athletes: 2.2137129471123527\n"
     ]
    }
   ],
   "source": [
    "# Calculate the average height and weight\n",
    "average_height = df['height'].mean()\n",
    "average_weight = df['weight'].mean()\n",
    "\n",
    "print(f\"Average Height of Athletes: {average_height}\")\n",
    "print(f\"Average Weight of Athletes: {average_weight}\")"
   ]
  },
  {
   "cell_type": "markdown",
   "id": "f15112d7",
   "metadata": {
    "papermill": {
     "duration": 0.009238,
     "end_time": "2024-08-28T15:43:45.395755",
     "exception": false,
     "start_time": "2024-08-28T15:43:45.386517",
     "status": "completed"
    },
    "tags": []
   },
   "source": [
    "# What is the distribution of athletes by gender?"
   ]
  },
  {
   "cell_type": "code",
   "execution_count": 6,
   "id": "8849ae85",
   "metadata": {
    "execution": {
     "iopub.execute_input": "2024-08-28T15:43:45.416433Z",
     "iopub.status.busy": "2024-08-28T15:43:45.415982Z",
     "iopub.status.idle": "2024-08-28T15:43:45.434362Z",
     "shell.execute_reply": "2024-08-28T15:43:45.433270Z"
    },
    "papermill": {
     "duration": 0.032075,
     "end_time": "2024-08-28T15:43:45.437318",
     "exception": false,
     "start_time": "2024-08-28T15:43:45.405243",
     "status": "completed"
    },
    "tags": []
   },
   "outputs": [
    {
     "data": {
      "text/html": [
       "<div>\n",
       "<style scoped>\n",
       "    .dataframe tbody tr th:only-of-type {\n",
       "        vertical-align: middle;\n",
       "    }\n",
       "\n",
       "    .dataframe tbody tr th {\n",
       "        vertical-align: top;\n",
       "    }\n",
       "\n",
       "    .dataframe thead th {\n",
       "        text-align: right;\n",
       "    }\n",
       "</style>\n",
       "<table border=\"1\" class=\"dataframe\">\n",
       "  <thead>\n",
       "    <tr style=\"text-align: right;\">\n",
       "      <th></th>\n",
       "      <th>gender</th>\n",
       "      <th>Count</th>\n",
       "    </tr>\n",
       "  </thead>\n",
       "  <tbody>\n",
       "    <tr>\n",
       "      <th>0</th>\n",
       "      <td>Male</td>\n",
       "      <td>5655</td>\n",
       "    </tr>\n",
       "    <tr>\n",
       "      <th>1</th>\n",
       "      <td>Female</td>\n",
       "      <td>5460</td>\n",
       "    </tr>\n",
       "  </tbody>\n",
       "</table>\n",
       "</div>"
      ],
      "text/plain": [
       "   gender  Count\n",
       "0    Male   5655\n",
       "1  Female   5460"
      ]
     },
     "execution_count": 6,
     "metadata": {},
     "output_type": "execute_result"
    }
   ],
   "source": [
    "df['gender'].value_counts().reset_index(name='Count')"
   ]
  },
  {
   "cell_type": "markdown",
   "id": "5c107b64",
   "metadata": {
    "papermill": {
     "duration": 0.009264,
     "end_time": "2024-08-28T15:43:45.456248",
     "exception": false,
     "start_time": "2024-08-28T15:43:45.446984",
     "status": "completed"
    },
    "tags": []
   },
   "source": [
    "# Which country has the highest number of athletes in the dataset?"
   ]
  },
  {
   "cell_type": "code",
   "execution_count": 7,
   "id": "e54188a3",
   "metadata": {
    "execution": {
     "iopub.execute_input": "2024-08-28T15:43:45.478981Z",
     "iopub.status.busy": "2024-08-28T15:43:45.478568Z",
     "iopub.status.idle": "2024-08-28T15:43:45.490161Z",
     "shell.execute_reply": "2024-08-28T15:43:45.488813Z"
    },
    "papermill": {
     "duration": 0.026882,
     "end_time": "2024-08-28T15:43:45.492722",
     "exception": false,
     "start_time": "2024-08-28T15:43:45.465840",
     "status": "completed"
    },
    "tags": []
   },
   "outputs": [
    {
     "name": "stdout",
     "output_type": "stream",
     "text": [
      "Country with the highest number of athletes: United States\n",
      "Number of athletes from United States: 620\n"
     ]
    }
   ],
   "source": [
    "# Group by country and count the number of athletes in each country\n",
    "country_counts = df['country'].value_counts()\n",
    "\n",
    "# Find the country with the highest number of athletes\n",
    "most_common_country = country_counts.idxmax()\n",
    "most_common_country_count = country_counts.max()\n",
    "\n",
    "print(f\"Country with the highest number of athletes: {most_common_country}\")\n",
    "print(f\"Number of athletes from {most_common_country}: {most_common_country_count}\")"
   ]
  },
  {
   "cell_type": "markdown",
   "id": "d543dadf",
   "metadata": {
    "papermill": {
     "duration": 0.009501,
     "end_time": "2024-08-28T15:43:45.511993",
     "exception": false,
     "start_time": "2024-08-28T15:43:45.502492",
     "status": "completed"
    },
    "tags": []
   },
   "source": [
    "# What is the average height and weight of athletes for each country?"
   ]
  },
  {
   "cell_type": "code",
   "execution_count": 8,
   "id": "606f77c1",
   "metadata": {
    "execution": {
     "iopub.execute_input": "2024-08-28T15:43:45.533269Z",
     "iopub.status.busy": "2024-08-28T15:43:45.532820Z",
     "iopub.status.idle": "2024-08-28T15:43:45.549510Z",
     "shell.execute_reply": "2024-08-28T15:43:45.548412Z"
    },
    "papermill": {
     "duration": 0.030432,
     "end_time": "2024-08-28T15:43:45.552136",
     "exception": false,
     "start_time": "2024-08-28T15:43:45.521704",
     "status": "completed"
    },
    "tags": []
   },
   "outputs": [
    {
     "name": "stdout",
     "output_type": "stream",
     "text": [
      "                        height  weight\n",
      "country                               \n",
      "AIN                  39.718750     0.0\n",
      "Afghanistan          57.000000     0.0\n",
      "Albania              44.250000     0.0\n",
      "Algeria              59.195652     0.0\n",
      "American Samoa       76.000000     0.0\n",
      "...                        ...     ...\n",
      "Virgin Islands, B   129.250000     0.0\n",
      "Virgin Islands, US   36.000000     0.0\n",
      "Yemen                45.750000     0.0\n",
      "Zambia              147.322581     0.0\n",
      "Zimbabwe             49.428571     0.0\n",
      "\n",
      "[206 rows x 2 columns]\n"
     ]
    }
   ],
   "source": [
    "# Group by country and calculate the average height and weight\n",
    "average_stats_by_country = df.groupby('country')[['height', 'weight']].mean()\n",
    "\n",
    "print(average_stats_by_country)"
   ]
  },
  {
   "cell_type": "markdown",
   "id": "8bc85998",
   "metadata": {
    "papermill": {
     "duration": 0.00964,
     "end_time": "2024-08-28T15:43:45.571629",
     "exception": false,
     "start_time": "2024-08-28T15:43:45.561989",
     "status": "completed"
    },
    "tags": []
   },
   "source": [
    "# Which country has the most diverse set of disciplines?"
   ]
  },
  {
   "cell_type": "code",
   "execution_count": 9,
   "id": "bf77629e",
   "metadata": {
    "execution": {
     "iopub.execute_input": "2024-08-28T15:43:45.594076Z",
     "iopub.status.busy": "2024-08-28T15:43:45.592912Z",
     "iopub.status.idle": "2024-08-28T15:43:45.620140Z",
     "shell.execute_reply": "2024-08-28T15:43:45.618990Z"
    },
    "papermill": {
     "duration": 0.040925,
     "end_time": "2024-08-28T15:43:45.622662",
     "exception": false,
     "start_time": "2024-08-28T15:43:45.581737",
     "status": "completed"
    },
    "tags": []
   },
   "outputs": [
    {
     "name": "stdout",
     "output_type": "stream",
     "text": [
      "Country with the most diverse set of disciplines: United States\n",
      "Number of unique disciplines in United States: 47\n"
     ]
    }
   ],
   "source": [
    "# Group by country and aggregate the set of unique disciplines\n",
    "disciplines_by_country = df.groupby('country')['disciplines'].unique()\n",
    "\n",
    "# Count the number of unique disciplines for each country\n",
    "num_disciplines_by_country = disciplines_by_country.apply(len)\n",
    "\n",
    "# Find the country with the most diverse set of disciplines\n",
    "most_diverse_country = num_disciplines_by_country.idxmax()\n",
    "most_diverse_country_count = num_disciplines_by_country.max()\n",
    "\n",
    "print(f\"Country with the most diverse set of disciplines: {most_diverse_country}\")\n",
    "print(f\"Number of unique disciplines in {most_diverse_country}: {most_diverse_country_count}\")"
   ]
  },
  {
   "cell_type": "markdown",
   "id": "57280395",
   "metadata": {
    "papermill": {
     "duration": 0.009642,
     "end_time": "2024-08-28T15:43:45.642197",
     "exception": false,
     "start_time": "2024-08-28T15:43:45.632555",
     "status": "completed"
    },
    "tags": []
   },
   "source": [
    "# How many unique disciplines are represented in the dataset?"
   ]
  },
  {
   "cell_type": "code",
   "execution_count": 10,
   "id": "c07f8a65",
   "metadata": {
    "execution": {
     "iopub.execute_input": "2024-08-28T15:43:45.664513Z",
     "iopub.status.busy": "2024-08-28T15:43:45.663705Z",
     "iopub.status.idle": "2024-08-28T15:43:45.671556Z",
     "shell.execute_reply": "2024-08-28T15:43:45.670388Z"
    },
    "papermill": {
     "duration": 0.021761,
     "end_time": "2024-08-28T15:43:45.674190",
     "exception": false,
     "start_time": "2024-08-28T15:43:45.652429",
     "status": "completed"
    },
    "tags": []
   },
   "outputs": [
    {
     "name": "stdout",
     "output_type": "stream",
     "text": [
      "Number of unique disciplines represented in the dataset: 50\n"
     ]
    }
   ],
   "source": [
    "# Calculate the number of unique disciplines\n",
    "num_unique_disciplines = df['disciplines'].nunique()\n",
    "\n",
    "print(f\"Number of unique disciplines represented in the dataset: {num_unique_disciplines}\")"
   ]
  },
  {
   "cell_type": "markdown",
   "id": "7027aafc",
   "metadata": {
    "papermill": {
     "duration": 0.009776,
     "end_time": "2024-08-28T15:43:45.694142",
     "exception": false,
     "start_time": "2024-08-28T15:43:45.684366",
     "status": "completed"
    },
    "tags": []
   },
   "source": [
    "# What are the top 5 disciplines with the highest number of athletes?"
   ]
  },
  {
   "cell_type": "code",
   "execution_count": 11,
   "id": "9968fcb8",
   "metadata": {
    "execution": {
     "iopub.execute_input": "2024-08-28T15:43:45.716110Z",
     "iopub.status.busy": "2024-08-28T15:43:45.715640Z",
     "iopub.status.idle": "2024-08-28T15:43:45.728092Z",
     "shell.execute_reply": "2024-08-28T15:43:45.726046Z"
    },
    "papermill": {
     "duration": 0.027016,
     "end_time": "2024-08-28T15:43:45.731234",
     "exception": false,
     "start_time": "2024-08-28T15:43:45.704218",
     "status": "completed"
    },
    "tags": []
   },
   "outputs": [
    {
     "name": "stdout",
     "output_type": "stream",
     "text": [
      "Top 5 disciplines with the highest number of athletes: \n",
      "     disciplines  Count\n",
      "0  ['Athletics']   2023\n",
      "1   ['Swimming']    836\n",
      "2   ['Football']    553\n",
      "3     ['Rowing']    493\n",
      "4     ['Hockey']    415\n"
     ]
    }
   ],
   "source": [
    "# Group by discipline and count the number of athletes in each discipline\n",
    "discipline_counts = df['disciplines'].value_counts().reset_index(name='Count')\n",
    "\n",
    "# Get the top 5 disciplines with the highest number of athletes\n",
    "top_5_disciplines = discipline_counts.head(5)\n",
    "\n",
    "print(f\"Top 5 disciplines with the highest number of athletes: \\n{top_5_disciplines}\")\n",
    "# print(top_5_disciplines)"
   ]
  },
  {
   "cell_type": "markdown",
   "id": "e8d0ce82",
   "metadata": {
    "papermill": {
     "duration": 0.011151,
     "end_time": "2024-08-28T15:43:45.753709",
     "exception": false,
     "start_time": "2024-08-28T15:43:45.742558",
     "status": "completed"
    },
    "tags": []
   },
   "source": [
    "# For each discipline, what is the average height and weight of athletes?"
   ]
  },
  {
   "cell_type": "code",
   "execution_count": 12,
   "id": "20162536",
   "metadata": {
    "execution": {
     "iopub.execute_input": "2024-08-28T15:43:45.783633Z",
     "iopub.status.busy": "2024-08-28T15:43:45.782882Z",
     "iopub.status.idle": "2024-08-28T15:43:45.802352Z",
     "shell.execute_reply": "2024-08-28T15:43:45.799619Z"
    },
    "papermill": {
     "duration": 0.03852,
     "end_time": "2024-08-28T15:43:45.805509",
     "exception": false,
     "start_time": "2024-08-28T15:43:45.766989",
     "status": "completed"
    },
    "tags": []
   },
   "outputs": [
    {
     "name": "stdout",
     "output_type": "stream",
     "text": [
      "                                               height     weight\n",
      "disciplines                                                     \n",
      "['3x3 Basketball', 'Basketball']           183.000000   0.000000\n",
      "['3x3 Basketball']                         190.046875   0.000000\n",
      "['Archery']                                  0.000000   0.000000\n",
      "['Artistic Gymnastics']                      0.000000   0.000000\n",
      "['Artistic Swimming']                        0.000000   0.000000\n",
      "['Athletics']                              173.481957   0.000000\n",
      "['Badminton']                              173.902857   0.000000\n",
      "['Basketball']                             191.547038   0.000000\n",
      "['Beach Volleyball']                       188.312500   0.000000\n",
      "['Boxing']                                 173.068548   0.000000\n",
      "['Breaking']                                 0.000000   0.000000\n",
      "['Canoe Slalom']                             0.000000   0.000000\n",
      "['Canoe Sprint']                             0.000000   0.000000\n",
      "['Cycling BMX Freestyle']                    0.000000   0.000000\n",
      "['Cycling BMX Racing']                       0.000000   0.000000\n",
      "['Cycling Mountain Bike']                    0.000000   0.000000\n",
      "['Cycling Road', 'Cycling Mountain Bike']    0.000000   0.000000\n",
      "['Cycling Road', 'Cycling Track']            0.000000   0.000000\n",
      "['Cycling Road', 'Triathlon']                0.000000   0.000000\n",
      "['Cycling Road']                             0.000000   0.000000\n",
      "['Cycling Track']                            0.000000   0.000000\n",
      "['Diving']                                   0.000000   0.000000\n",
      "['Equestrian']                               0.000000   0.000000\n",
      "['Fencing']                                  0.000000   0.000000\n",
      "['Football']                               174.768535   0.000000\n",
      "['Golf']                                   175.200000   0.000000\n",
      "['Handball']                               183.689119   0.000000\n",
      "['Hockey']                                   0.000000   0.000000\n",
      "['Judo']                                     0.952381   0.000000\n",
      "['Marathon Swimming', 'Swimming']            0.000000   0.000000\n",
      "['Marathon Swimming']                        0.000000   0.000000\n",
      "['Modern Pentathlon']                        0.000000   0.000000\n",
      "['Rhythmic Gymnastics']                      0.000000   0.000000\n",
      "['Rowing']                                   0.000000   0.000000\n",
      "['Rugby Sevens']                           174.697161  77.507886\n",
      "['Sailing']                                  0.000000   0.000000\n",
      "['Shooting']                                 0.000000   0.000000\n",
      "['Skateboarding']                            0.000000   0.000000\n",
      "['Sport Climbing']                         168.808824   0.000000\n",
      "['Surfing']                                  0.000000   0.000000\n",
      "['Swimming']                                 0.000000   0.000000\n",
      "['Table Tennis']                             0.000000   0.000000\n",
      "['Taekwondo']                                0.000000   0.000000\n",
      "['Tennis']                                 180.585227   0.000000\n",
      "['Trampoline Gymnastics']                    0.000000   0.000000\n",
      "['Triathlon']                                0.000000   0.000000\n",
      "['Volleyball']                             190.945338   0.000000\n",
      "['Water Polo']                             185.076923   0.000000\n",
      "['Weightlifting']                            0.000000   0.000000\n",
      "['Wrestling']                                0.000000   0.000000\n"
     ]
    }
   ],
   "source": [
    "# Group by discipline and calculate the average height and weight\n",
    "average_stats_by_discipline = df.groupby('disciplines')[['height', 'weight']].mean()\n",
    "\n",
    "print(average_stats_by_discipline)"
   ]
  },
  {
   "cell_type": "markdown",
   "id": "f67177e0",
   "metadata": {
    "papermill": {
     "duration": 0.009994,
     "end_time": "2024-08-28T15:43:45.826039",
     "exception": false,
     "start_time": "2024-08-28T15:43:45.816045",
     "status": "completed"
    },
    "tags": []
   },
   "source": [
    "# Convert the `birth_date` column to datetime format and calculate the age of each athlete."
   ]
  },
  {
   "cell_type": "code",
   "execution_count": 13,
   "id": "aa657594",
   "metadata": {
    "execution": {
     "iopub.execute_input": "2024-08-28T15:43:45.848804Z",
     "iopub.status.busy": "2024-08-28T15:43:45.847801Z",
     "iopub.status.idle": "2024-08-28T15:43:45.873280Z",
     "shell.execute_reply": "2024-08-28T15:43:45.871632Z"
    },
    "papermill": {
     "duration": 0.040066,
     "end_time": "2024-08-28T15:43:45.876324",
     "exception": false,
     "start_time": "2024-08-28T15:43:45.836258",
     "status": "completed"
    },
    "tags": []
   },
   "outputs": [
    {
     "name": "stdout",
     "output_type": "stream",
     "text": [
      "  birth_date   age\n",
      "0 1994-10-17  29.0\n",
      "1 2006-07-28  18.0\n",
      "2 2004-04-26  20.0\n",
      "3 2000-01-14  24.0\n",
      "4 1998-03-08  26.0\n"
     ]
    }
   ],
   "source": [
    "# Convert the 'birth_date' column to datetime format\n",
    "df['birth_date'] = pd.to_datetime(df['birth_date'], errors='coerce')\n",
    "\n",
    "# Calculate the age of each athlete\n",
    "df['age'] = (pd.Timestamp.today() - df['birth_date']).dt.days // 365.25\n",
    "\n",
    "# Display the dataset with the new 'age' column\n",
    "print(df[['birth_date', 'age']].head())"
   ]
  },
  {
   "cell_type": "markdown",
   "id": "d431ea9c",
   "metadata": {
    "papermill": {
     "duration": 0.012261,
     "end_time": "2024-08-28T15:43:45.901099",
     "exception": false,
     "start_time": "2024-08-28T15:43:45.888838",
     "status": "completed"
    },
    "tags": []
   },
   "source": [
    "# What is the average age of athletes in the dataset?"
   ]
  },
  {
   "cell_type": "code",
   "execution_count": 14,
   "id": "fb210447",
   "metadata": {
    "execution": {
     "iopub.execute_input": "2024-08-28T15:43:45.932215Z",
     "iopub.status.busy": "2024-08-28T15:43:45.930004Z",
     "iopub.status.idle": "2024-08-28T15:43:45.941732Z",
     "shell.execute_reply": "2024-08-28T15:43:45.940484Z"
    },
    "papermill": {
     "duration": 0.029688,
     "end_time": "2024-08-28T15:43:45.945021",
     "exception": false,
     "start_time": "2024-08-28T15:43:45.915333",
     "status": "completed"
    },
    "tags": []
   },
   "outputs": [
    {
     "name": "stdout",
     "output_type": "stream",
     "text": [
      "The average age of athletes in the dataset is: 26.65 years\n"
     ]
    }
   ],
   "source": [
    "# Calculate the average age of athletes\n",
    "average_age = df['age'].mean()\n",
    "\n",
    "print(f\"The average age of athletes in the dataset is: {average_age:.2f} years\")"
   ]
  },
  {
   "cell_type": "markdown",
   "id": "54bdbe70",
   "metadata": {
    "papermill": {
     "duration": 0.013858,
     "end_time": "2024-08-28T15:43:45.974526",
     "exception": false,
     "start_time": "2024-08-28T15:43:45.960668",
     "status": "completed"
    },
    "tags": []
   },
   "source": [
    "# How does the average age of athletes vary by gender?"
   ]
  },
  {
   "cell_type": "code",
   "execution_count": 15,
   "id": "0d146105",
   "metadata": {
    "execution": {
     "iopub.execute_input": "2024-08-28T15:43:46.007039Z",
     "iopub.status.busy": "2024-08-28T15:43:46.005740Z",
     "iopub.status.idle": "2024-08-28T15:43:46.018728Z",
     "shell.execute_reply": "2024-08-28T15:43:46.017452Z"
    },
    "papermill": {
     "duration": 0.032737,
     "end_time": "2024-08-28T15:43:46.021238",
     "exception": false,
     "start_time": "2024-08-28T15:43:45.988501",
     "status": "completed"
    },
    "tags": []
   },
   "outputs": [
    {
     "name": "stdout",
     "output_type": "stream",
     "text": [
      "Average age of athletes by gender: \n",
      "    gender  Average Age\n",
      "0  Female    26.267033\n",
      "1    Male    27.011141\n"
     ]
    }
   ],
   "source": [
    "# Group by gender and calculate the average age\n",
    "average_age_by_gender = df.groupby('gender')['age'].mean().reset_index(name='Average Age')\n",
    "\n",
    "print(f\"Average age of athletes by gender: \\n {average_age_by_gender}\")\n",
    "# print(average_age_by_gender)"
   ]
  },
  {
   "cell_type": "markdown",
   "id": "d3959816",
   "metadata": {
    "papermill": {
     "duration": 0.010352,
     "end_time": "2024-08-28T15:43:46.042079",
     "exception": false,
     "start_time": "2024-08-28T15:43:46.031727",
     "status": "completed"
    },
    "tags": []
   },
   "source": [
    "# How many entries have missing values in the `weight` column?"
   ]
  },
  {
   "cell_type": "code",
   "execution_count": 16,
   "id": "505123d2",
   "metadata": {
    "execution": {
     "iopub.execute_input": "2024-08-28T15:43:46.065171Z",
     "iopub.status.busy": "2024-08-28T15:43:46.064719Z",
     "iopub.status.idle": "2024-08-28T15:43:46.073306Z",
     "shell.execute_reply": "2024-08-28T15:43:46.071413Z"
    },
    "papermill": {
     "duration": 0.023574,
     "end_time": "2024-08-28T15:43:46.076472",
     "exception": false,
     "start_time": "2024-08-28T15:43:46.052898",
     "status": "completed"
    },
    "tags": []
   },
   "outputs": [
    {
     "name": "stdout",
     "output_type": "stream",
     "text": [
      "Number of entries with missing values in the 'weight' column: 16\n"
     ]
    }
   ],
   "source": [
    "# Count the number of missing values in the 'weight' column\n",
    "missing_weight_count = df['weight'].isna().sum()\n",
    "\n",
    "print(f\"Number of entries with missing values in the 'weight' column: {missing_weight_count}\")"
   ]
  },
  {
   "cell_type": "markdown",
   "id": "c76148d3",
   "metadata": {
    "papermill": {
     "duration": 0.012198,
     "end_time": "2024-08-28T15:43:46.103913",
     "exception": false,
     "start_time": "2024-08-28T15:43:46.091715",
     "status": "completed"
    },
    "tags": []
   },
   "source": [
    "# What percentage of the dataset has missing values for the `weight` column?"
   ]
  },
  {
   "cell_type": "code",
   "execution_count": 17,
   "id": "def7e452",
   "metadata": {
    "execution": {
     "iopub.execute_input": "2024-08-28T15:43:46.127578Z",
     "iopub.status.busy": "2024-08-28T15:43:46.127151Z",
     "iopub.status.idle": "2024-08-28T15:43:46.134808Z",
     "shell.execute_reply": "2024-08-28T15:43:46.133691Z"
    },
    "papermill": {
     "duration": 0.023334,
     "end_time": "2024-08-28T15:43:46.138095",
     "exception": false,
     "start_time": "2024-08-28T15:43:46.114761",
     "status": "completed"
    },
    "tags": []
   },
   "outputs": [
    {
     "name": "stdout",
     "output_type": "stream",
     "text": [
      "Percentage of the dataset with missing values in the 'weight' column: 0.14%\n"
     ]
    }
   ],
   "source": [
    "# Count the number of missing values in the 'weight' column\n",
    "missing_weight_count = df['weight'].isna().sum()\n",
    "\n",
    "# Calculate the total number of entries in the dataset\n",
    "total_entries = len(df)\n",
    "\n",
    "# Calculate the percentage of missing values in the 'weight' column\n",
    "missing_weight_percentage = (missing_weight_count / total_entries) * 100\n",
    "\n",
    "print(f\"Percentage of the dataset with missing values in the 'weight' column: {missing_weight_percentage:.2f}%\")"
   ]
  }
 ],
 "metadata": {
  "kaggle": {
   "accelerator": "none",
   "dataSources": [
    {
     "datasetId": 5549809,
     "sourceId": 9181952,
     "sourceType": "datasetVersion"
    }
   ],
   "dockerImageVersionId": 30761,
   "isGpuEnabled": false,
   "isInternetEnabled": true,
   "language": "python",
   "sourceType": "notebook"
  },
  "kernelspec": {
   "display_name": "Python 3",
   "language": "python",
   "name": "python3"
  },
  "language_info": {
   "codemirror_mode": {
    "name": "ipython",
    "version": 3
   },
   "file_extension": ".py",
   "mimetype": "text/x-python",
   "name": "python",
   "nbconvert_exporter": "python",
   "pygments_lexer": "ipython3",
   "version": "3.10.14"
  },
  "papermill": {
   "default_parameters": {},
   "duration": 7.848174,
   "end_time": "2024-08-28T15:43:46.773965",
   "environment_variables": {},
   "exception": null,
   "input_path": "__notebook__.ipynb",
   "output_path": "__notebook__.ipynb",
   "parameters": {},
   "start_time": "2024-08-28T15:43:38.925791",
   "version": "2.6.0"
  }
 },
 "nbformat": 4,
 "nbformat_minor": 5
}
